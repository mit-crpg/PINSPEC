{
 "metadata": {
  "name": ""
 },
 "nbformat": 3,
 "nbformat_minor": 0,
 "worksheets": [
  {
   "cells": [
    {
     "cell_type": "heading",
     "level": 1,
     "metadata": {},
     "source": [
      "A Tutorial on Creating Materials in PINSPEC"
     ]
    },
    {
     "cell_type": "markdown",
     "metadata": {},
     "source": [
      "This tutorial will cover the basics of creating Materials in PINSPEC. As with any PINSPEC script, we must first import the **pinspec** modules into our Python environment:"
     ]
    },
    {
     "cell_type": "code",
     "collapsed": false,
     "input": [
      "from pinspec import *\n",
      "from pinspec.log import *"
     ],
     "language": "python",
     "metadata": {},
     "outputs": []
    },
    {
     "cell_type": "markdown",
     "metadata": {},
     "source": [
      "Let's now set the output directory. In addition, in order to see some helpful initialization messages from the PINSPEC backend, we must set the log level to **'INFO'**:"
     ]
    },
    {
     "cell_type": "code",
     "collapsed": false,
     "input": [
      "set_output_directory('3-Materials')\n",
      "py_set_log_level('INFO')"
     ],
     "language": "python",
     "metadata": {},
     "outputs": []
    },
    {
     "cell_type": "markdown",
     "metadata": {},
     "source": [
      "In PINSPEC, a **Material** is **collection** of Isotopes, each with a certain number density. Hence, in order to create a Material, we must first initialize some Isotopes. Let's initialize some of those most common in LWRs:"
     ]
    },
    {
     "cell_type": "code",
     "collapsed": false,
     "input": [
      "h1 = Isotope('H-1')\n",
      "o16 = Isotope('O-16')\n",
      "u235 = Isotope('U-235')\n",
      "u238 = Isotope('U-238')\n",
      "zr90 = Isotope('Zr-90')"
     ],
     "language": "python",
     "metadata": {},
     "outputs": []
    },
    {
     "cell_type": "markdown",
     "metadata": {},
     "source": [
      "Next, we can initialize a Material. As with most objects in PINSPEC, a Material object has a name that is assigned when you create it. Although you are not required to assign a name to a Material (the default is an empty string), it is highly suggested that you use a name since it will make it easier for PINSPEC's data processing and plotting routines to appropriately label output data and plots in way that will be recognizable to you. Let's Initialize an infinite medium material:"
     ]
    },
    {
     "cell_type": "code",
     "collapsed": false,
     "input": [
      "inf_medium = Material('infinite medium material')"
     ],
     "language": "python",
     "metadata": {},
     "outputs": []
    },
    {
     "cell_type": "markdown",
     "metadata": {},
     "source": [
      "The next step is to assign a total density to the Material. Presently, PINSPEC only (reliably) supports density for Materials in 'g/cc' units. Let's assign an arbitrary density to this Material:"
     ]
    },
    {
     "cell_type": "code",
     "collapsed": false,
     "input": [
      "inf_medium.setDensity(5., 'g/cc')"
     ],
     "language": "python",
     "metadata": {},
     "outputs": []
    },
    {
     "cell_type": "markdown",
     "metadata": {},
     "source": [
      "Now we can add Isotopes to the Material. Each Isotope is added with its corresponding relative number density, or atomic ratio, using the **addIsotope(...)** routine:"
     ]
    },
    {
     "cell_type": "code",
     "collapsed": false,
     "input": [
      "inf_medium.addIsotope(o16, 1.0)\n",
      "inf_medium.addIsotope(h1, 1.0)\n",
      "inf_medium.addIsotope(u238, 0.01)\n",
      "inf_medium.addIsotope(u235, .0025)\n",
      "inf_medium.addIsotope(zr90, .16)"
     ],
     "language": "python",
     "metadata": {},
     "outputs": []
    },
    {
     "cell_type": "markdown",
     "metadata": {},
     "source": [
      "Finally, perhaps we wish to plot the macroscopic cross-sections for our Material. The first step is to import the **pinspec.plotter** module into our Python environment:"
     ]
    },
    {
     "cell_type": "code",
     "collapsed": false,
     "input": [
      "import pinspec.plotter as plotter"
     ],
     "language": "python",
     "metadata": {},
     "outputs": []
    },
    {
     "cell_type": "markdown",
     "metadata": {},
     "source": [
      "Next, we can call the **plotMacroXS(...)** routine with the Material and a Python list of the reaction rates we wish to plot. For example, the following will plot the capture cross-section:"
     ]
    },
    {
     "cell_type": "code",
     "collapsed": false,
     "input": [
      "plotter.plotMacroXS(inf_medium, ['capture'])"
     ],
     "language": "python",
     "metadata": {},
     "outputs": []
    },
    {
     "cell_type": "markdown",
     "metadata": {},
     "source": [
      "We could likewise have plotted the capture, fission, elastic scattering and total cross-sections for U-238, all on one plot:"
     ]
    },
    {
     "cell_type": "code",
     "collapsed": false,
     "input": [
      "plotter.plotMacroXS(inf_medium, ['capture', 'elastic', 'fission','total'], \\\n",
      "                    filename='infinite-medium-macro-xs')"
     ],
     "language": "python",
     "metadata": {},
     "outputs": []
    },
    {
     "cell_type": "markdown",
     "metadata": {},
     "source": [
      "Finally, let's note that the plots that are generated by PINSPEC are automatically stored to a file in the output directory. Let's use **ls** to inspect our present working directory:"
     ]
    },
    {
     "cell_type": "code",
     "collapsed": false,
     "input": [
      "ls"
     ],
     "language": "python",
     "metadata": {},
     "outputs": []
    },
    {
     "cell_type": "markdown",
     "metadata": {},
     "source": [
      "Let's enter the **3-Materials/plots** directory for this IPython Notebook:"
     ]
    },
    {
     "cell_type": "code",
     "collapsed": false,
     "input": [
      "cd 3-Materials/plots"
     ],
     "language": "python",
     "metadata": {},
     "outputs": []
    },
    {
     "cell_type": "markdown",
     "metadata": {},
     "source": [
      "Now, let's load the stored image file into the Notebook using Matplotlib:"
     ]
    },
    {
     "cell_type": "code",
     "collapsed": false,
     "input": [
      "import matplotlib.pyplot as plt\n",
      "\n",
      "fig = plt.figure()\n",
      "\n",
      "plt.imshow(plt.imread('infinite-medium-macro-xs.png'))"
     ],
     "language": "python",
     "metadata": {},
     "outputs": []
    }
   ],
   "metadata": {}
  }
 ]
}