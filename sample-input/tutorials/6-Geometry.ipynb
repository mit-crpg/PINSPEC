{
 "metadata": {
  "name": ""
 },
 "nbformat": 3,
 "nbformat_minor": 0,
 "worksheets": [
  {
   "cells": [
    {
     "cell_type": "heading",
     "level": 1,
     "metadata": {},
     "source": [
      "A Tutorial on Creating a Geometry in PINSPEC"
     ]
    },
    {
     "cell_type": "markdown",
     "metadata": {},
     "source": [
      "This tutorial will cover the basics of creating a Geometry in PINSPEC. As with any PINSPEC script, we must first import the **pinspec** modules into our Python environment:"
     ]
    },
    {
     "cell_type": "code",
     "collapsed": false,
     "input": [
      "from pinspec import *\n",
      "from pinspec.log import *"
     ],
     "language": "python",
     "metadata": {},
     "outputs": []
    },
    {
     "cell_type": "markdown",
     "metadata": {},
     "source": [
      "Let's now set the output directory. In addition, in order to see some helpful initialization messages from the PINSPEC backend, we must set the log level to **'INFO'**:"
     ]
    },
    {
     "cell_type": "code",
     "collapsed": false,
     "input": [
      "set_output_directory('6-Geometry')\n",
      "py_set_log_level('INFO')"
     ],
     "language": "python",
     "metadata": {},
     "outputs": []
    },
    {
     "cell_type": "markdown",
     "metadata": {},
     "source": [
      "In PINSPEC, a **Geometry** is a **collection** of one or more Regions, which are filled by Materials, each of which is a collection of Isotopes. In the case of an infinite medium, the Geometry will only contain a single Region. In the case of the homogeneous equivalence model, the Geometry will contain two regions for the fuel and moderator. For a heterogeneous model, the Geometry will contain one up to an arbitrary number of Regions (Note that heterogeneous models are not yet fully implemented in PINSPEC). Hence, in order to create a Geometry, we must first initialize our Region(s), Material(s), and Isotope(s).<br />\n",
      "\n",
      "We will discuss how to do this for both the infinite medium and the homogeneous equivalence models below."
     ]
    },
    {
     "cell_type": "heading",
     "level": 3,
     "metadata": {},
     "source": [
      "Infinite Medium Models"
     ]
    },
    {
     "cell_type": "markdown",
     "metadata": {},
     "source": [
      "In the case of an infinite medium, we only need a single Region and Material with some Isotopes. Let's create all of these together at once below:"
     ]
    },
    {
     "cell_type": "code",
     "collapsed": false,
     "input": [
      "# Initialize Isotopes\n",
      "h1 = Isotope('H-1')\n",
      "o16 = Isotope('O-16')\n",
      "u235 = Isotope('U-235')\n",
      "u238 = Isotope('U-238')\n",
      "zr90 = Isotope('Zr-90')\n",
      "\n",
      "# Initialize a Material\n",
      "inf_medium_material = Material('infinite medium material')\n",
      "inf_medium_material.setDensity(5., 'g/cc')\n",
      "inf_medium_material.addIsotope(o16, 1.0)\n",
      "inf_medium_material.addIsotope(h1, 1.0)\n",
      "inf_medium_material.addIsotope(u238, 0.01)\n",
      "inf_medium_material.addIsotope(u235, .0025)\n",
      "inf_medium_material.addIsotope(zr90, .16)\n",
      "\n",
      "# Initialize a Region\n",
      "inf_medium_region = InfiniteMediumRegion('infinite medium region')\n",
      "inf_medium_region.setMaterial(inf_medium_material)"
     ],
     "language": "python",
     "metadata": {},
     "outputs": []
    },
    {
     "cell_type": "markdown",
     "metadata": {},
     "source": [
      "A Geometry can easily instantiated for an infinite homogeneous medium ((**HOMOGENEOUS_EQUIVALENCE**) as follows:"
     ]
    },
    {
     "cell_type": "code",
     "collapsed": false,
     "input": [
      "geometry = Geometry(INFINITE_HOMOGENEOUS)"
     ],
     "language": "python",
     "metadata": {},
     "outputs": []
    },
    {
     "cell_type": "markdown",
     "metadata": {},
     "source": [
      "Now, we must add our infinite medium region to the Geometry:"
     ]
    },
    {
     "cell_type": "code",
     "collapsed": false,
     "input": [
      "geometry.addRegion(inf_medium_region)"
     ],
     "language": "python",
     "metadata": {},
     "outputs": []
    },
    {
     "cell_type": "markdown",
     "metadata": {},
     "source": [
      "Lastly, we can run a Monte Carlo simulation of neutrons sampled from a Watt spectrum using the **runMonteCarloSimulation()** routine:"
     ]
    },
    {
     "cell_type": "code",
     "collapsed": false,
     "input": [
      "geometry.runMonteCarloSimulation()"
     ],
     "language": "python",
     "metadata": {},
     "outputs": []
    },
    {
     "cell_type": "markdown",
     "metadata": {},
     "source": [
      "We can change the default parameters for the number of batches, neutrons per batch, etc. using the class methods for our Geometry:"
     ]
    },
    {
     "cell_type": "code",
     "collapsed": false,
     "input": [
      "# Override default simulation parameters\n",
      "geometry.setNumBatches(20)\n",
      "geometry.setNeutronsPerBatch(1000)\n",
      "\n",
      "# Run the simulation\n",
      "geometry.runMonteCarloSimulation()"
     ],
     "language": "python",
     "metadata": {},
     "outputs": []
    },
    {
     "cell_type": "heading",
     "level": 3,
     "metadata": {},
     "source": [
      "Homogeneous Equivalence Models"
     ]
    },
    {
     "cell_type": "markdown",
     "metadata": {},
     "source": [
      "In a homogeneous equivalence model, we need two Regions and Materials for fuel and moderator, which we will instantiate together below:"
     ]
    },
    {
     "cell_type": "code",
     "collapsed": false,
     "input": [
      "# Initialize Isotopes\n",
      "h1 = Isotope('H-1')\n",
      "o16 = Isotope('O-16')\n",
      "u235 = Isotope('U-235')\n",
      "u238 = Isotope('U-238')\n",
      "zr90 = Isotope('Zr-90')\n",
      "\n",
      "# Create a Material for the moderator\n",
      "moderator_material = Material('moderator material')\n",
      "moderator_material.setDensity(1.815, 'g/cc')\n",
      "moderator_material.addIsotope(h1, 0.617)\n",
      "moderator_material.addIsotope(o16, 0.309)\n",
      "moderator_material.addIsotope(zr90, 0.074)\n",
      "\n",
      "# Created a Material for the fuel                                            \n",
      "fuel_material = Material('fuel material')\n",
      "fuel_material.setDensity(10.2, 'g/cc')\n",
      "fuel_material.addIsotope(u235, 0.010)\n",
      "fuel_material.addIsotope(u238, 0.323)\n",
      "fuel_material.addIsotope(o16, 0.667)\n",
      "\n",
      "# Create a Region for the moderator\n",
      "moderator_region = EquivalenceModeratorRegion('moderator region')\n",
      "moderator_region.setMaterial(moderator_material)\n",
      "\n",
      "# Create a Region for the fuel\n",
      "fuel_region = EquivalenceFuelRegion('fuel region')\n",
      "fuel_region.setMaterial(fuel_material)"
     ],
     "language": "python",
     "metadata": {},
     "outputs": []
    },
    {
     "cell_type": "markdown",
     "metadata": {},
     "source": [
      "Now, we can create a homogeneous equivalence (**HOMOGENEOUS_EQUIVALENCE**) Geometry:"
     ]
    },
    {
     "cell_type": "code",
     "collapsed": false,
     "input": [
      "geometry = Geometry(HOMOGENEOUS_EQUIVALENCE)"
     ],
     "language": "python",
     "metadata": {},
     "outputs": []
    },
    {
     "cell_type": "markdown",
     "metadata": {},
     "source": [
      "We will add each of our Regions to the Geometry:"
     ]
    },
    {
     "cell_type": "code",
     "collapsed": false,
     "input": [
      "geometry.addRegion(moderator_region)\n",
      "geometry.addRegion(fuel_region)"
     ],
     "language": "python",
     "metadata": {},
     "outputs": []
    },
    {
     "cell_type": "markdown",
     "metadata": {},
     "source": [
      "Then, we will set the basic geometric parameters for our homogeneous equivalence pin cell model - *i.e.*, the fuel pin **radius**, pin **pitch**, and **dancoff factor**:"
     ]
    },
    {
     "cell_type": "code",
     "collapsed": false,
     "input": [
      "geometry.setFuelPinRadius(0.4096)\n",
      "geometry.setPinCellPitch(1.26)\n",
      "geometry.setDancoffFactor(0.277)"
     ],
     "language": "python",
     "metadata": {},
     "outputs": []
    },
    {
     "cell_type": "markdown",
     "metadata": {},
     "source": [
      "As for the infinite homogeneous case, we can simply execute a simulation using the **runMonteCarlSimulation()** routine with our default simulation parameters as follows:"
     ]
    },
    {
     "cell_type": "code",
     "collapsed": false,
     "input": [
      "geometry.runMonteCarloSimulation()"
     ],
     "language": "python",
     "metadata": {},
     "outputs": []
    },
    {
     "cell_type": "code",
     "collapsed": false,
     "input": [],
     "language": "python",
     "metadata": {},
     "outputs": []
    }
   ],
   "metadata": {}
  }
 ]
}