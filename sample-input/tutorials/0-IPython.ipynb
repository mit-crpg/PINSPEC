{
 "metadata": {
  "name": ""
 },
 "nbformat": 3,
 "nbformat_minor": 0,
 "worksheets": [
  {
   "cells": [
    {
     "cell_type": "heading",
     "level": 1,
     "metadata": {},
     "source": [
      "A Tutorial on IPython Notebook Basics"
     ]
    },
    {
     "cell_type": "markdown",
     "metadata": {},
     "source": [
      "This tutorial will cover the very basic essentials for using IPython Notebook. There are a great many resources online where you can find more information. The IPython Notebook official <a href=\"http://ipython.org/notebook.html\" target=\"None\">website</a> is an excellent place to start for more information."
     ]
    },
    {
     "cell_type": "heading",
     "level": 3,
     "metadata": {},
     "source": [
      "Terminal Bash Commands"
     ]
    },
    {
     "cell_type": "markdown",
     "metadata": {},
     "source": [
      "The IPython Notebook window allows you to utilize <a href=\"http://en.wikipedia.org/wiki/Bash_%28Unix_shell%29\" target=\"None\">bash</a> terminal commands inline with Python code. We will only cover a few essential commands here - if you are not familiar with the bash, a good reference is <a href=\"http://community.linuxmint.com/tutorial/view/244\" target=\"None\">here</a>. To begin, let's print our present working directory where we launched our IPython Notebook using the **pwd** command:"
     ]
    },
    {
     "cell_type": "code",
     "collapsed": false,
     "input": [
      "pwd"
     ],
     "language": "python",
     "metadata": {},
     "outputs": []
    },
    {
     "cell_type": "markdown",
     "metadata": {},
     "source": [
      "Next, let's inspect the directory listing of all files and sub-directories within our present working directory using the **ls** command:"
     ]
    },
    {
     "cell_type": "code",
     "collapsed": false,
     "input": [
      "ls"
     ],
     "language": "python",
     "metadata": {},
     "outputs": []
    },
    {
     "cell_type": "markdown",
     "metadata": {},
     "source": [
      "We can use the **mkdir** command to create a new directory:"
     ]
    },
    {
     "cell_type": "code",
     "collapsed": false,
     "input": [
      "mkdir new-directory"
     ],
     "language": "python",
     "metadata": {},
     "outputs": []
    },
    {
     "cell_type": "markdown",
     "metadata": {},
     "source": [
      "We can inspect to see that our **new-directory** was created using **ls**:"
     ]
    },
    {
     "cell_type": "code",
     "collapsed": false,
     "input": [
      "ls"
     ],
     "language": "python",
     "metadata": {},
     "outputs": []
    },
    {
     "cell_type": "markdown",
     "metadata": {},
     "source": [
      "Now, let's enter **new-directory** using the **cd** to change directories:"
     ]
    },
    {
     "cell_type": "code",
     "collapsed": false,
     "input": [
      "cd new-directory/"
     ],
     "language": "python",
     "metadata": {},
     "outputs": []
    },
    {
     "cell_type": "markdown",
     "metadata": {},
     "source": [
      "We can use the **cd** command to navigate the directories. To go back a single level in the directory tree, we can use **cd ..**"
     ]
    },
    {
     "cell_type": "code",
     "collapsed": false,
     "input": [
      "cd .."
     ],
     "language": "python",
     "metadata": {},
     "outputs": []
    },
    {
     "cell_type": "markdown",
     "metadata": {},
     "source": [
      "Let's change the name of our **new-directory** using the the **mv** command"
     ]
    },
    {
     "cell_type": "code",
     "collapsed": false,
     "input": [
      "mv new-directory/ renamed-directory"
     ],
     "language": "python",
     "metadata": {},
     "outputs": []
    },
    {
     "cell_type": "markdown",
     "metadata": {},
     "source": [
      "We can inspect to see that the directory has been renamed using **ls**:"
     ]
    },
    {
     "cell_type": "code",
     "collapsed": false,
     "input": [
      "ls"
     ],
     "language": "python",
     "metadata": {},
     "outputs": []
    },
    {
     "cell_type": "markdown",
     "metadata": {},
     "source": [
      "Let's remove **renamed-directory** using the **rm** command:"
     ]
    },
    {
     "cell_type": "code",
     "collapsed": false,
     "input": [
      "rm -rf renamed-directory/"
     ],
     "language": "python",
     "metadata": {},
     "outputs": []
    },
    {
     "cell_type": "markdown",
     "metadata": {},
     "source": [
      "There are a great many other bash commands which you may find useful in IPython Notebook - we recommend you consult resources on the web to make full use of this feature. "
     ]
    },
    {
     "cell_type": "heading",
     "level": 3,
     "metadata": {},
     "source": [
      "Numerical Python with NumPy"
     ]
    },
    {
     "cell_type": "markdown",
     "metadata": {},
     "source": [
      "Next, we will experiment a bit with <a href=\"http://docs.scipy.org/doc/numpy/reference/\" target=\"None\">NumPy</a>, a Python package for fast numerical data array manipulation First, let's import NumPy into our Python environment:"
     ]
    },
    {
     "cell_type": "code",
     "collapsed": false,
     "input": [
      "import numpy as np"
     ],
     "language": "python",
     "metadata": {},
     "outputs": []
    },
    {
     "cell_type": "markdown",
     "metadata": {},
     "source": [
      "Now, let's try creating a new NumPy array from some basic numerical data:"
     ]
    },
    {
     "cell_type": "code",
     "collapsed": false,
     "input": [
      "newarray = np.array([1,2,3,4,5])\n",
      "print newarray"
     ],
     "language": "python",
     "metadata": {},
     "outputs": []
    },
    {
     "cell_type": "markdown",
     "metadata": {},
     "source": [
      "We can initialize empty arrays of any size and/or dimension (i.e., 1D, 2D, 3D, etc.) using NumPy's **zeros(...)** routine:"
     ]
    },
    {
     "cell_type": "code",
     "collapsed": false,
     "input": [
      "# A 1D array of length 50\n",
      "oneD = np.zeros(50)\n",
      "\n",
      "# A 2D array of length 25, width 25\n",
      "twoD = np.zeros((25,25))\n",
      "\n",
      "# A 3D array of length 10, width 10, depth 10\n",
      "threeD = np.zeros((10,10,10))"
     ],
     "language": "python",
     "metadata": {},
     "outputs": []
    },
    {
     "cell_type": "markdown",
     "metadata": {},
     "source": [
      "Perhaps we wish to utilize NumPy to fill the 1D array with data from a sine curve between $ [0,2\\pi]$. We can do so with NumPy's **sin(...)** routine as follows:"
     ]
    },
    {
     "cell_type": "code",
     "collapsed": false,
     "input": [
      "# Get the length of the array oneD\n",
      "num_values = oneD.size\n",
      "\n",
      "# Create an array of x values between 0 and 2pi using linspace the length of oneD\n",
      "x = np.linspace(0, 2*np.pi, num_values)\n",
      "\n",
      "# Re-assign each array element to the sine of an array value in oneD\n",
      "oneD = np.sin(x)\n",
      "\n",
      "# Report the new sine values in the oneD array\n",
      "print oneD"
     ],
     "language": "python",
     "metadata": {},
     "outputs": []
    },
    {
     "cell_type": "markdown",
     "metadata": {},
     "source": [
      "The NumPy also include routines for some common numerical techniques, including numerical differentiation and integration. Let's take the **integral** of our since curve using the **trapz(...)** routine:"
     ]
    },
    {
     "cell_type": "code",
     "collapsed": false,
     "input": [
      "integral = np.trapz(oneD, x=x)\n",
      "print integral"
     ],
     "language": "python",
     "metadata": {},
     "outputs": []
    },
    {
     "cell_type": "markdown",
     "metadata": {},
     "source": [
      "As expected, the integral of sine curve betweeen $[0,2\\pi]$ is within machine precision of zero. Now let's take the **derivative** using the **gradient(...)** routine, specifying the separation along the x-axis as our second parameter:"
     ]
    },
    {
     "cell_type": "code",
     "collapsed": false,
     "input": [
      "derivative = np.gradient(oneD, x[0]-x[1])\n",
      "print derivative"
     ],
     "language": "python",
     "metadata": {},
     "outputs": []
    },
    {
     "cell_type": "markdown",
     "metadata": {},
     "source": [
      "There are a great many other routines in NumPy - we recommend you consult various resources on the web for more information. In addition, you may find the <a href=\"http://matplotlib.org/contents.html\" target=\"None\">SciPy</a> Python package helpful for efficient routines to perform numerical integration, optimization, and more."
     ]
    },
    {
     "cell_type": "heading",
     "level": 3,
     "metadata": {},
     "source": [
      "Plotting with Matplotlib"
     ]
    },
    {
     "cell_type": "markdown",
     "metadata": {},
     "source": [
      "Finally, we will learn how to create plots of data using the <a href=\"http://matplotlib.org/contents.html\" target=\"None\">Matplotlib</a> Python package. As with NumPy and SciPy, Matplotlib is a powerful package and only a small subset of the available functionality will be covered here. Let's begin by importing the **pyplot** module in Matplotlib into our Python environment:"
     ]
    },
    {
     "cell_type": "code",
     "collapsed": false,
     "input": [
      "import matplotlib.pyplot as plt"
     ],
     "language": "python",
     "metadata": {},
     "outputs": []
    },
    {
     "cell_type": "markdown",
     "metadata": {},
     "source": [
      "Next, we need to inform IPython Notebook to display our Matplotlib curves inline with the text. We can do so using the IPYthon **%matplotlib** \"magic\" command. Note that you may alternatively launch IPython Notebook with the \"--pylab='inline'\" argument from the terminal."
     ]
    },
    {
     "cell_type": "code",
     "collapsed": false,
     "input": [
      "%pylab inline"
     ],
     "language": "python",
     "metadata": {},
     "outputs": []
    },
    {
     "cell_type": "markdown",
     "metadata": {},
     "source": [
      "Next, we will create a handle to a Matplotlib figure \"canvas\" upon which to draw our plot using the **figure()** routine:"
     ]
    },
    {
     "cell_type": "code",
     "collapsed": false,
     "input": [
      "fig = plt.figure()"
     ],
     "language": "python",
     "metadata": {},
     "outputs": []
    },
    {
     "cell_type": "markdown",
     "metadata": {},
     "source": [
      "Now, we will call the **plot(...)** routine with our data:"
     ]
    },
    {
     "cell_type": "code",
     "collapsed": false,
     "input": [
      "plt.plot(x, oneD)"
     ],
     "language": "python",
     "metadata": {},
     "outputs": []
    },
    {
     "cell_type": "markdown",
     "metadata": {},
     "source": [
      "Perhaps we wish to add a title and label our axes. Let's do this as follows with the **title(...)**, **xlabel(...)**, **ylabel(...)**, and **xlim(...)** commands:"
     ]
    },
    {
     "cell_type": "code",
     "collapsed": false,
     "input": [
      "plt.plot(x,oneD)\n",
      "\n",
      "# Add a title and labels to the x and y axes\n",
      "plt.title('Sine Curve')\n",
      "plt.xlabel('x')\n",
      "plt.ylabel('sin(x)')\n",
      "\n",
      "# Make the plot x-axis only extend between 0 and 2pi\n",
      "plt.xlim([0, 2.*np.pi])"
     ],
     "language": "python",
     "metadata": {},
     "outputs": []
    },
    {
     "cell_type": "markdown",
     "metadata": {},
     "source": [
      "Let's plot both the sine and it's derivative curve on the same plot, appending a legend using the **legend(...)** command:"
     ]
    },
    {
     "cell_type": "code",
     "collapsed": false,
     "input": [
      "# Plot both curves on the same figure\n",
      "plt.plot(x,oneD)\n",
      "plt.plot(x,derivative)\n",
      "\n",
      "# Add a title and labels to the x and y axes\n",
      "plt.title('Sine and Derivative')\n",
      "plt.xlabel('x')\n",
      "plt.ylabel('f(x)')\n",
      "\n",
      "# Make the plot x-axis only extend between 0 and 2pi\n",
      "plt.xlim([0, 2.*np.pi])\n",
      "\n",
      "# Add a legend\n",
      "plt.legend(['Sine', 'Derivative'])"
     ],
     "language": "python",
     "metadata": {},
     "outputs": []
    },
    {
     "cell_type": "markdown",
     "metadata": {},
     "source": [
      "Finally, let's save the figure to an image file using Matplotlib's **savefig(...)** routine. Note that we must generate the plot a second time since we can only save within an active Ipython Notebook cell:"
     ]
    },
    {
     "cell_type": "code",
     "collapsed": false,
     "input": [
      "# Plot both curves on the same figure\n",
      "plt.plot(x,oneD)\n",
      "plt.plot(x,derivative)\n",
      "\n",
      "# Add a title and labels to the x and y axes\n",
      "plt.title('Sine and Derivative')\n",
      "plt.xlabel('x')\n",
      "plt.ylabel('f(x)')\n",
      "\n",
      "# Make the plot x-axis only extend between 0 and 2pi\n",
      "plt.xlim([0, 2.*np.pi])\n",
      "\n",
      "# Add a legend\n",
      "plt.legend(['Sine', 'Derivative'])\n",
      "\n",
      "# Save the figure to a file\n",
      "plt.savefig('sine-curve.png')"
     ],
     "language": "python",
     "metadata": {},
     "outputs": []
    },
    {
     "cell_type": "markdown",
     "metadata": {},
     "source": [
      "We can inspect the directory to ensure that it was saved using **ls**:"
     ]
    },
    {
     "cell_type": "code",
     "collapsed": false,
     "input": [
      "ls"
     ],
     "language": "python",
     "metadata": {},
     "outputs": []
    },
    {
     "cell_type": "markdown",
     "metadata": {},
     "source": [
      "We can load the image using Matplotlib's **imread(...)** and **imshow(...)** commands:"
     ]
    },
    {
     "cell_type": "code",
     "collapsed": false,
     "input": [
      "imshow(imread('sine-curve.png'))"
     ],
     "language": "python",
     "metadata": {},
     "outputs": []
    }
   ],
   "metadata": {}
  }
 ]
}