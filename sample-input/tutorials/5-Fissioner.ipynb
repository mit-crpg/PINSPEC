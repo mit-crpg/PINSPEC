{
 "metadata": {
  "name": ""
 },
 "nbformat": 3,
 "nbformat_minor": 0,
 "worksheets": [
  {
   "cells": [
    {
     "cell_type": "heading",
     "level": 1,
     "metadata": {},
     "source": [
      "A Tutorial on Fission in PINSPEC"
     ]
    },
    {
     "cell_type": "markdown",
     "metadata": {},
     "source": [
      "This tutorial will cover the basics of the fission energy spectrum (Watt spectrum) sampled for fission source emission in PINSPEC. \n",
      "\n",
      "**NOTE:** This is all done \"under the hood\" for you in PINSPEC; this tutorial simply illustrates how you may create some simple plots of the fission spectrum for your own intuition.<br />\n",
      "\n",
      "As with any PINSPEC script, we must first import the **pinspec** modules into our Python environment:"
     ]
    },
    {
     "cell_type": "code",
     "collapsed": false,
     "input": [
      "from pinspec import *\n",
      "from pinspec.log import *"
     ],
     "language": "python",
     "metadata": {},
     "outputs": [],
     "prompt_number": 1
    },
    {
     "cell_type": "markdown",
     "metadata": {},
     "source": [
      "Let's now set the output directory. In addition, in order to see some helpful initialization messages from the PINSPEC backend, we must set the log level to **'INFO'**:"
     ]
    },
    {
     "cell_type": "code",
     "collapsed": false,
     "input": [
      "set_output_directory('5-Fissioner')\n",
      "py_set_log_level('INFO')"
     ],
     "language": "python",
     "metadata": {},
     "outputs": [
      {
       "output_type": "stream",
       "stream": "stdout",
       "text": [
        "[  INFO   ]  Logging level set to INFO\n"
       ]
      }
     ],
     "prompt_number": 2
    },
    {
     "cell_type": "markdown",
     "metadata": {},
     "source": [
      "The next step is to create a **Fissioner** object:"
     ]
    },
    {
     "cell_type": "code",
     "collapsed": false,
     "input": [
      "fissioner = Fissioner()"
     ],
     "language": "python",
     "metadata": {},
     "outputs": [],
     "prompt_number": 3
    },
    {
     "cell_type": "markdown",
     "metadata": {},
     "source": [
      "The **Fissioner** is built to use the standard Watt Spectrum for fission source emission. The Probability Distribution Function (PDF) and Cumulative Distribution Function (CDF) for the Watt spectrum will be generated when a Fissioner is instantiated. Again, this is all done \"under the hood\" as PINSPEC code instantiates its own Fissioner and you do not need to do this in your code.<br />\n",
      "\n",
      "In order to inspect the PDF and CDF, let's import the plotting module in PINSPEC:"
     ]
    },
    {
     "cell_type": "code",
     "collapsed": false,
     "input": [
      "import pinspec.plotter as plotter"
     ],
     "language": "python",
     "metadata": {},
     "outputs": [],
     "prompt_number": 4
    },
    {
     "cell_type": "markdown",
     "metadata": {},
     "source": [
      "Now we will instruct the plotting module to plot the PDF and CDF for the **Fissioner** class. Note that the plotting module will instantiate its own **Fissioner** class object to perform this operation and as a result, we do not need to input our **Fissioner** as a parameter."
     ]
    },
    {
     "cell_type": "code",
     "collapsed": false,
     "input": [
      "plotter.plotFissionSpectrum()"
     ],
     "language": "python",
     "metadata": {},
     "outputs": [],
     "prompt_number": 5
    },
    {
     "cell_type": "markdown",
     "metadata": {},
     "source": [
      "We can user our Fissioner object to \"emit\" neutrons sampled from the Watt spectrum. For example, to sample a neutron's fission emission energy in eV, we can use the **emitNeutroneV()** routine:"
     ]
    },
    {
     "cell_type": "code",
     "collapsed": false,
     "input": [
      "fissioner.emitNeutroneV()"
     ],
     "language": "python",
     "metadata": {},
     "outputs": [
      {
       "metadata": {},
       "output_type": "pyout",
       "prompt_number": 6,
       "text": [
        "4170621.0"
       ]
      }
     ],
     "prompt_number": 6
    },
    {
     "cell_type": "markdown",
     "metadata": {},
     "source": [
      "Alternatively, to sample a neutron's fission emission energy in MeV, we can use the **emitNeutronMeV()** routine:"
     ]
    },
    {
     "cell_type": "code",
     "collapsed": false,
     "input": [
      "fissioner.emitNeutronMeV()"
     ],
     "language": "python",
     "metadata": {},
     "outputs": [
      {
       "metadata": {},
       "output_type": "pyout",
       "prompt_number": 7,
       "text": [
        "1.591168999671936"
       ]
      }
     ],
     "prompt_number": 7
    },
    {
     "cell_type": "markdown",
     "metadata": {},
     "source": [
      "Finally, we can sample hundreds or thousands of neutron emission energies to build a histogram of samples from our Watt spectrum:"
     ]
    },
    {
     "cell_type": "code",
     "collapsed": false,
     "input": [
      "num_samples = 1000\n",
      "\n",
      "# Initialize a numpy array for the neutron emission energies\n",
      "import numpy\n",
      "energies = numpy.zeros(num_samples)\n",
      "\n",
      "# Sample the emission energies from the fissioner\n",
      "for i in range(num_samples):\n",
      "    energies[i] = fissioner.emitNeutronMeV()\n",
      "    \n",
      "# Use PyLab to plot a histogram\n",
      "import pylab\n",
      "\n",
      "pylab.figure()\n",
      "\n",
      "# The number of bins for the histogram\n",
      "num_bins = 30\n",
      "\n",
      "# Generate the histogram\n",
      "n, bins, patches = pylab.hist(energies, num_bins, histtype='bar')\n",
      "pylab.title('Sampled Fission Emission Energies')\n",
      "pylab.xlabel('Energy [MeV]')\n",
      "pylab.ylabel('# Samples')"
     ],
     "language": "python",
     "metadata": {},
     "outputs": []
    }
   ],
   "metadata": {}
  }
 ]
}