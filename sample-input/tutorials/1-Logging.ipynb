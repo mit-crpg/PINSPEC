{
 "metadata": {
  "name": ""
 },
 "nbformat": 3,
 "nbformat_minor": 0,
 "worksheets": [
  {
   "cells": [
    {
     "cell_type": "heading",
     "level": 1,
     "metadata": {},
     "source": [
      "A Tutorial on IPython Notebook Basics"
     ]
    },
    {
     "cell_type": "markdown",
     "metadata": {},
     "source": [
      "This tutorial will cover the essentials of the logging module for PINSPEC. The logging module allows you to \"throttle\" the output from PINSPEC using various log levels. In addition, the logging module prints both to the screen as well as to a persisten log file in a \"log\" directory. First, we need to import the **pinspec.log**"
     ]
    },
    {
     "cell_type": "code",
     "collapsed": false,
     "input": [
      "from pinspec import "
     ],
     "language": "python",
     "metadata": {},
     "outputs": []
    },
    {
     "cell_type": "markdown",
     "metadata": {},
     "source": [
      "We can specify the directory where we wish to store our **log files** for this session using the **set_output_directory(...)** routine:"
     ]
    },
    {
     "cell_type": "code",
     "collapsed": false,
     "input": [
      "set_output_directory('1-Logging')"
     ],
     "language": "python",
     "metadata": {},
     "outputs": []
    },
    {
     "cell_type": "markdown",
     "metadata": {},
     "source": [
      "Use **ls** to inspect the directory to ensure that the log file directory was created:"
     ]
    },
    {
     "cell_type": "code",
     "collapsed": false,
     "input": [
      "ls"
     ],
     "language": "python",
     "metadata": {},
     "outputs": []
    },
    {
     "cell_type": "markdown",
     "metadata": {},
     "source": [
      "Now, we can set the **log level**. The log level determines which messages are printed to the screen and to the log file. All messages with a log level of lower priority than the level we set here will **not** be printed, while messages at a level greater than or equal to the level **will** be printed. The available log levels are enumerated in order of increasing priority as follows:<br />\n",
      "\n",
      "0 - 'DEBUG' <br />\n",
      "1 - 'INFO'<br />\n",
      "2 - 'NORMAL'<br />\n",
      "3 - 'SEPARATOR'<br />\n",
      "4 - 'HEADER'<br />\n",
      "5 - 'TITLE'<br />\n",
      "6 - 'WARNING'<br />\n",
      "7 - 'CRITICAL<br />\n",
      "8 - 'RESULT'<br />\n",
      "9 - 'ERROR'<br />\n",
      "\n",
      "We will set the log level to use with the **py_set_log_level(...)** routine:"
     ]
    },
    {
     "cell_type": "code",
     "collapsed": false,
     "input": [
      "py_set_log_level('NORMAL')"
     ],
     "language": "python",
     "metadata": {},
     "outputs": [
      {
       "ename": "NameError",
       "evalue": "name 'py_set_log_level' is not defined",
       "output_type": "pyerr",
       "traceback": [
        "\u001b[1;31m---------------------------------------------------------------------------\u001b[0m\n\u001b[1;31mNameError\u001b[0m                                 Traceback (most recent call last)",
        "\u001b[1;32m<ipython-input-1-d3786f1e6963>\u001b[0m in \u001b[0;36m<module>\u001b[1;34m()\u001b[0m\n\u001b[1;32m----> 1\u001b[1;33m \u001b[0mpy_set_log_level\u001b[0m\u001b[1;33m(\u001b[0m\u001b[1;34m'NORMAL'\u001b[0m\u001b[1;33m)\u001b[0m\u001b[1;33m\u001b[0m\u001b[0m\n\u001b[0m",
        "\u001b[1;31mNameError\u001b[0m: name 'py_set_log_level' is not defined"
       ]
      }
     ]
    },
    {
     "cell_type": "markdown",
     "metadata": {},
     "source": [
      "Now, we can print a message to the screen (and log file) the **py_printf(...)** routine:"
     ]
    },
    {
     "cell_type": "code",
     "collapsed": false,
     "input": [
      "py_printf('NORMAL', 'Hello World!')"
     ],
     "language": "python",
     "metadata": {},
     "outputs": []
    },
    {
     "cell_type": "markdown",
     "metadata": {},
     "source": [
      "If we print a message at a log level below the one that is set, nothing will be printed to the screen:"
     ]
    },
    {
     "cell_type": "code",
     "collapsed": false,
     "input": [
      "py_printf('INFO', 'Hello World...from INFO log level!')"
     ],
     "language": "python",
     "metadata": {},
     "outputs": []
    },
    {
     "cell_type": "markdown",
     "metadata": {},
     "source": [
      "And if we print a message at a log level above the one that is set, it will be printed:"
     ]
    },
    {
     "cell_type": "code",
     "collapsed": false,
     "input": [
      "py_printf('RESULT', 'Hello World...from RESULT log level!')"
     ],
     "language": "python",
     "metadata": {},
     "outputs": []
    },
    {
     "cell_type": "markdown",
     "metadata": {},
     "source": [
      "The 'SEPARATOR', 'HEADER' and 'TITLE' log levels are useful for creating nice spaces between sections of the output for parsing. This can be particularly helpful when inspecting a log file after running a piece of code."
     ]
    },
    {
     "cell_type": "code",
     "collapsed": false,
     "input": [
      "py_printf('SEPARATOR', 'A message to SEPARATOR will not be printed')"
     ],
     "language": "python",
     "metadata": {},
     "outputs": []
    },
    {
     "cell_type": "code",
     "collapsed": false,
     "input": [
      "py_printf('HEADER', 'HEADER message')"
     ],
     "language": "python",
     "metadata": {},
     "outputs": []
    },
    {
     "cell_type": "code",
     "collapsed": false,
     "input": [
      "py_printf('TITLE', 'TITLE message')"
     ],
     "language": "python",
     "metadata": {},
     "outputs": []
    },
    {
     "cell_type": "markdown",
     "metadata": {},
     "source": [
      "Numerical data can be generically included in messages using the C string formatting <a href=\"http://www.cplusplus.com/reference/cstdio/printf/\" target=\"None\">specifications</a>. For example, if we wish to print an integer, we would use the **%d** format code in our message string as follows:"
     ]
    },
    {
     "cell_type": "code",
     "collapsed": false,
     "input": [
      "my_age = 26\n",
      "py_printf('NORMAL', 'My age is %s', my_age)"
     ],
     "language": "python",
     "metadata": {},
     "outputs": []
    },
    {
     "cell_type": "markdown",
     "metadata": {},
     "source": [
      "For a floating point value, we use the **%f** format code:"
     ]
    },
    {
     "cell_type": "code",
     "collapsed": false,
     "input": [
      "pi = 3.14159\n",
      "py_printf('NORMAL', 'Pi is %f',  pi)"
     ],
     "language": "python",
     "metadata": {},
     "outputs": []
    },
    {
     "cell_type": "markdown",
     "metadata": {},
     "source": [
      "Likewise, we can embed a string within a string using **%s** format code:"
     ]
    },
    {
     "cell_type": "code",
     "collapsed": false,
     "input": [
      "my_name = 'Will Boyd'\n",
      "py_printf('NORMAL', 'My name is %s', my_name)"
     ],
     "language": "python",
     "metadata": {},
     "outputs": []
    },
    {
     "cell_type": "markdown",
     "metadata": {},
     "source": [
      "Finally, multiple format codes can be used together in a single message:"
     ]
    },
    {
     "cell_type": "code",
     "collapsed": false,
     "input": [
      "py_printf('NORMAL', 'My name is %s and I am %d years old.', my_name, my_age)"
     ],
     "language": "python",
     "metadata": {},
     "outputs": []
    },
    {
     "cell_type": "markdown",
     "metadata": {},
     "source": [
      "Lastly, let's inspect the log file that was created and written to during this session. First, use **cd** to enter the log file directory:"
     ]
    },
    {
     "cell_type": "code",
     "collapsed": false,
     "input": [
      "cd 1-Logging/log"
     ],
     "language": "python",
     "metadata": {},
     "outputs": []
    },
    {
     "cell_type": "markdown",
     "metadata": {},
     "source": [
      "Each session creates a new log file with a different time stamp. Let's find the name of this log file:"
     ]
    },
    {
     "cell_type": "code",
     "collapsed": false,
     "input": [
      "ls"
     ],
     "language": "python",
     "metadata": {},
     "outputs": []
    },
    {
     "cell_type": "markdown",
     "metadata": {},
     "source": [
      "Let's load the file into our interactive IPython session using the **%load** command. Note, you must enter the file name following **%load** below:"
     ]
    },
    {
     "cell_type": "code",
     "collapsed": false,
     "input": [
      "%load "
     ],
     "language": "python",
     "metadata": {},
     "outputs": []
    }
   ],
   "metadata": {}
  }
 ]
}