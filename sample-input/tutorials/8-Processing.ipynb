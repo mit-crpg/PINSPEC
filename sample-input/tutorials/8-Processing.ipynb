{
 "metadata": {
  "name": ""
 },
 "nbformat": 3,
 "nbformat_minor": 0,
 "worksheets": [
  {
   "cells": [
    {
     "cell_type": "heading",
     "level": 1,
     "metadata": {},
     "source": [
      "A Tutorial on Data Processing in PINSPEC"
     ]
    },
    {
     "cell_type": "markdown",
     "metadata": {},
     "source": [
      "This tutorial will cover the basics of data processing with Tallies in PINSPEC. As with any PINSPEC script, we must first import the **pinspec** modules into our Python environment. In addition, we will import the **pinspec.process** module for data processing:"
     ]
    },
    {
     "cell_type": "code",
     "collapsed": false,
     "input": [
      "from pinspec import *\n",
      "from pinspec.log import *\n",
      "import pinspec.process as process"
     ],
     "language": "python",
     "metadata": {},
     "outputs": []
    },
    {
     "cell_type": "markdown",
     "metadata": {},
     "source": [
      "Let's now set the output directory. In addition, in order to see some helpful initialization messages from the PINSPEC backend, we must set the log level to **'INFO'**:"
     ]
    },
    {
     "cell_type": "code",
     "collapsed": false,
     "input": [
      "set_output_directory('8-Processing')\n",
      "py_set_log_level('INFO')"
     ],
     "language": "python",
     "metadata": {},
     "outputs": []
    },
    {
     "cell_type": "markdown",
     "metadata": {},
     "source": [
      "We will choose to demonstrate data processing of Tallies in the homogeneous equivalence model for generality, though it is equally applicable to the infinite medium case. Let's begin by creating a homogeneous equivalence model:"
     ]
    },
    {
     "cell_type": "code",
     "collapsed": false,
     "input": [
      "# Initialize Isotopes\n",
      "h1 = Isotope('H-1')\n",
      "o16 = Isotope('O-16')\n",
      "u235 = Isotope('U-235')\n",
      "u238 = Isotope('U-238')\n",
      "zr90 = Isotope('Zr-90')\n",
      "\n",
      "# Create a Material for the moderator\n",
      "moderator_material = Material('moderator material')\n",
      "moderator_material.setDensity(1.815, 'g/cc')\n",
      "moderator_material.addIsotope(h1, 0.617)\n",
      "moderator_material.addIsotope(o16, 0.309)\n",
      "moderator_material.addIsotope(zr90, 0.074)\n",
      "\n",
      "# Created a Material for the fuel                                            \n",
      "fuel_material = Material('fuel material')\n",
      "fuel_material.setDensity(10.2, 'g/cc')\n",
      "fuel_material.addIsotope(u235, 0.010)\n",
      "fuel_material.addIsotope(u238, 0.323)\n",
      "fuel_material.addIsotope(o16, 0.667)\n",
      "\n",
      "# Create a Region for the moderator\n",
      "moderator_region = EquivalenceModeratorRegion('moderator region')\n",
      "moderator_region.setMaterial(moderator_material)\n",
      "\n",
      "# Create a Region for the fuel\n",
      "fuel_region = EquivalenceFuelRegion('fuel region')\n",
      "fuel_region.setMaterial(fuel_material)\n",
      "\n",
      "# Create a Geometry containing both fuel and moderator Regions\n",
      "geometry = Geometry(HOMOGENEOUS_EQUIVALENCE)\n",
      "geometry.addRegion(moderator_region)\n",
      "geometry.addRegion(fuel_region)\n",
      "geometry.setFuelPinRadius(0.4096)\n",
      "geometry.setPinCellPitch(1.26)\n",
      "geometry.setDancoffFactor(0.277)"
     ],
     "language": "python",
     "metadata": {},
     "outputs": []
    },
    {
     "cell_type": "heading",
     "level": 3,
     "metadata": {},
     "source": [
      "Multi-group Cross-sections"
     ]
    },
    {
     "cell_type": "markdown",
     "metadata": {},
     "source": [
      "It is simple to use PINSPEC to compute **multi-group cross-sections** from Tallies. In particular, to compute a multi-group cross-section for reaction rate $x$, we must compute a Tally for both the reaction rate $x$ as well as the flux using tally bins which correspond to our energy groups. (**Note**: the bins for both the reaction rate Tally and the flux tally must be the **same**.)"
     ]
    },
    {
     "cell_type": "heading",
     "level": 4,
     "metadata": {},
     "source": [
      "Creating the Tallies"
     ]
    },
    {
     "cell_type": "markdown",
     "metadata": {},
     "source": [
      "Let's proceed by initializing the Tallies we would need to compute 4-group fission cross-sections in the fuel using the **FISSION_RATE** Tally type:"
     ]
    },
    {
     "cell_type": "code",
     "collapsed": false,
     "input": [
      "fission_rate = TallyFactory.createTally(fuel_region, FISSION_RATE, 'fission rxn rate')"
     ],
     "language": "python",
     "metadata": {},
     "outputs": []
    },
    {
     "cell_type": "markdown",
     "metadata": {},
     "source": [
      "As we saw in the tutorial on Tallies, we an assign specific bin edges to our Tally:"
     ]
    },
    {
     "cell_type": "code",
     "collapsed": false,
     "input": [
      "# Initialize a NumPy array of bin edges\n",
      "import numpy\n",
      "energy_group_edges = numpy.array([1e-6, 1e-2, 1., 4., 1e7])\n",
      "\n",
      "# Assign the multi-group bin edges to the Tally\n",
      "fission_rate.setBinEdges(energy_group_edges)"
     ],
     "language": "python",
     "metadata": {},
     "outputs": []
    },
    {
     "cell_type": "markdown",
     "metadata": {},
     "source": [
      "Likewise, we can create tallies for the capture and diffusion reaction rates in the moderator using the same energy group structure, if we wish. To do so, we create Tallies for the **CAPTURE_RATE** and **DIFFUSION_RATE**, respectively:"
     ]
    },
    {
     "cell_type": "code",
     "collapsed": false,
     "input": [
      "# Initialize capture and diffusion reaction rate Tallies\n",
      "capture_rate = TallyFactory.createTally(moderator_region, CAPTURE_RATE, 'capture rxn rate')\n",
      "diffusion_rate = TallyFactory.createTally(moderator_region, DIFFUSION_RATE, 'total rxn rate')\n",
      "\n",
      "# Assign the multi-group bin edges to the Tallies\n",
      "capture_rate.setBinEdges(energy_group_edges)\n",
      "diffusion_rate.setBinEdges(energy_group_edges)"
     ],
     "language": "python",
     "metadata": {},
     "outputs": []
    },
    {
     "cell_type": "markdown",
     "metadata": {},
     "source": [
      "As we noted earlier, we must also tally the flux in the same energy groups as our reaction rates. Furthermore, we must tally the flux in the appropriate domain (*i.e.*, fuel vs. moderator Regions, etc.) to compute our multi-group cross-sections. In our case, we need to create separate Tallies for the flux in the fuel and moderator regions:"
     ]
    },
    {
     "cell_type": "code",
     "collapsed": false,
     "input": [
      "# Initialize flux Tallies in fuel and moderator regions\n",
      "fuel_flux = TallyFactory.createTally(fuel_region, FLUX, 'fuel flux')\n",
      "moderator_flux = TallyFactory.createTally(moderator_region, FLUX, 'moderator flux')\n",
      "\n",
      "# Assign multi-group bin edges to the Tallies\n",
      "fuel_flux.setBinEdges(energy_group_edges)\n",
      "moderator_flux.setBinEdges(energy_group_edges)"
     ],
     "language": "python",
     "metadata": {},
     "outputs": []
    },
    {
     "cell_type": "heading",
     "level": 4,
     "metadata": {},
     "source": [
      "Running a Simulation"
     ]
    },
    {
     "cell_type": "markdown",
     "metadata": {},
     "source": [
      "Now that we have created our Tallies, we must register them with the TallyBank:"
     ]
    },
    {
     "cell_type": "code",
     "collapsed": false,
     "input": [
      "TallyBank.registerTally(fission_rate)\n",
      "TallyBank.registerTally(capture_rate)\n",
      "TallyBank.registerTally(diffusion_rate)\n",
      "TallyBank.registerTally(fuel_flux)\n",
      "TallyBank.registerTally(moderator_flux)"
     ],
     "language": "python",
     "metadata": {},
     "outputs": []
    },
    {
     "cell_type": "markdown",
     "metadata": {},
     "source": [
      "We can now run a simulation and populate our Tallies with data:"
     ]
    },
    {
     "cell_type": "code",
     "collapsed": false,
     "input": [
      "geometry.runMonteCarloSimulation()"
     ],
     "language": "python",
     "metadata": {},
     "outputs": []
    },
    {
     "cell_type": "heading",
     "level": 4,
     "metadata": {},
     "source": [
      "Computing Cross-sections"
     ]
    },
    {
     "cell_type": "markdown",
     "metadata": {},
     "source": [
      "Now that our Tallies are full of useful data from the simulation, we can use them to compute multi-group cross-sections. The multi-group cross-section for reaction rate $x$ is simply the ratio of the reaction rate Tally to the appropriate flux tally. Hence, we can easily compute the multi-group cross-sections using the **pinspec.process** module's **GroupXS** class as follows:"
     ]
    },
    {
     "cell_type": "code",
     "collapsed": false,
     "input": [
      "# Compute the multi-group fuel fission cross-section\n",
      "fuel_fission_xs = process.GroupXS(fission_rate, fuel_flux, name='Fuel Fission XS')\n",
      "\n",
      "# Compute the multi-group moderator capture cross-section\n",
      "moderator_capture_xs = process.GroupXS(capture_rate, moderator_flux, name='Mod. Capture XS')\n",
      "\n",
      "# Compute the multi-group moderator diffusion coefficient\n",
      "moderator_diff_coeff = process.GroupXS(diffusion_rate, moderator_flux, name='Mod. Diff. Coeff.')"
     ],
     "language": "python",
     "metadata": {},
     "outputs": []
    },
    {
     "cell_type": "markdown",
     "metadata": {},
     "source": [
      "The **GroupXS** class will report our multi-group cross-sections using the GroupXS **printXS(...)** routine as follows:"
     ]
    },
    {
     "cell_type": "code",
     "collapsed": false,
     "input": [
      "fuel_fission_xs.printXS(uncertainties=True)\n",
      "moderator_capture_xs.printXS(uncertainties=True)\n",
      "moderator_diff_coeff.printXS(uncertainties=True)"
     ],
     "language": "python",
     "metadata": {},
     "outputs": []
    },
    {
     "cell_type": "markdown",
     "metadata": {},
     "source": [
      "We can also get NumPy arrays of the multi-group cross-sections from the GroupXS objects using the **getXS()** routine:"
     ]
    },
    {
     "cell_type": "code",
     "collapsed": false,
     "input": [
      "group_xs = fuel_fission_xs.getXS()\n",
      "group_edges = fuel_fission_xs.getEnergyBands()"
     ],
     "language": "python",
     "metadata": {},
     "outputs": []
    },
    {
     "cell_type": "markdown",
     "metadata": {},
     "source": [
      "We can even retrieve the pointwise fission macroscopic cross-section from the fuel material and plot it along with our multi-group cross-section if we wish:"
     ]
    },
    {
     "cell_type": "code",
     "collapsed": false,
     "input": [
      "# Retrieve the fission macroscopic cross-section from the fuel material\n",
      "num_energies = fuel_material.getNumXSEnergies('fission')\n",
      "ptwise_energies = fuel_material.retrieveXSEnergies(num_energies, 'fission')\n",
      "ptwise_fiss_xs = fuel_material.retrieveXS(num_energies, 'fission')\n",
      "\n",
      "# Create a plot of the pointwise cross-sections\n",
      "import matplotlib.pyplot as plt\n",
      "fig = plt.figure()\n",
      "plt.loglog(ptwise_energies, ptwise_fiss_xs)\n",
      "legend = ['Pointwise']\n",
      "\n",
      "# Add our multi-group cross-sections as line segments for each group\n",
      "for i in range(group_edges.size-1):\n",
      "    \n",
      "    # Energy group - points along the x-axis for this line segment\n",
      "    energies = [group_edges[i], group_edges[i+1]]\n",
      "                \n",
      "    # Multi-group cross-section - points along the y-axis for this line segment\n",
      "    xs = [group_xs[i], group_xs[i]]\n",
      "\n",
      "    # Add line segment to the plot\n",
      "    plt.loglog(energies, xs, linewidth=3)\n",
      "    \n",
      "    # Add entry to the legend for this group\n",
      "    legend.append('Group %d' % (i+1))\n",
      "    \n",
      "\n",
      "# Decorate the plot and make it pretty\n",
      "plt.title('Fuel Macroscopic Fission Cross-section')\n",
      "plt.xlabel('Energy [eV]')\n",
      "plt.ylabel('$\\Sigma$'+' ['+'cm$^{-1}$'+']')\n",
      "plt.legend(legend)\n",
      "plt.grid()"
     ],
     "language": "python",
     "metadata": {},
     "outputs": []
    },
    {
     "cell_type": "heading",
     "level": 3,
     "metadata": {},
     "source": [
      "Resonance Integrals"
     ]
    },
    {
     "cell_type": "markdown",
     "metadata": {},
     "source": [
      "PINSEPC can also be used to compute both true and effective resonance integrals in PINSPEC. For example, if we wanted to compute the the true (infinitely dilute) resonance integral for the U-238 capture cross-section, we could use the **pinspec.process** module's **RITrue** class as follows:"
     ]
    },
    {
     "cell_type": "code",
     "collapsed": false,
     "input": [
      "# Use pinspec.process to compute the resonance integrals\n",
      "u238_true_RIs = process.RITrue(u238, energy_group_edges, reaction='absorption', name='U238 True RIs')\n",
      "\n",
      "# Report the resonance integrals to the screen\n",
      "u238_true_RIs.printRIs()\n",
      "\n",
      "# Get a NumPy array of the RIs\n",
      "true_RIs = u238_true_RIs.getIntegrals()"
     ],
     "language": "python",
     "metadata": {},
     "outputs": []
    },
    {
     "cell_type": "markdown",
     "metadata": {},
     "source": [
      "Likewise, we can compute the effective resonance integral from the real spectrum for the U-238 capture cross-section, we could use the **pinspec.process** module's **RIEff** class. To compute this value, however, we need to tally the capture rate in specifically U-238, which we can do with an **ISOTOPE** Tally registered with the fuel Region:"
     ]
    },
    {
     "cell_type": "code",
     "collapsed": false,
     "input": [
      "# Create the Tally for U238 capture \n",
      "u238_capture_rate = TallyFactory.createTally(u238, ABSORPTION_RATE, 'U238 Capture Rate')\n",
      "u238_capture_rate.setBinEdges(energy_group_edges)\n",
      "\n",
      "# Register the Tally and run a new simulation\n",
      "# Since it is an ISOTOPE type Tally, we MUST register it for a specific Material or Region\n",
      "TallyBank.registerTally(u238_capture_rate, fuel_region)\n",
      "\n",
      "# Run a new simulation with all Tallies registered thus far\n",
      "geometry.runMonteCarloSimulation()"
     ],
     "language": "python",
     "metadata": {},
     "outputs": []
    },
    {
     "cell_type": "markdown",
     "metadata": {},
     "source": [
      "Now, we can compute the effective resonance integrals using the **RIEff** class:"
     ]
    },
    {
     "cell_type": "code",
     "collapsed": false,
     "input": [
      "# Compute the resonance integrals\n",
      "u238_eff_RIs = process.RIEff(u238_capture_rate, fuel_flux, name='U238 Eff. RIs')\n",
      "\n",
      "# Print the resonance integrals to the screen\n",
      "u238_eff_RIs.printRI(uncertainties=True)\n",
      "\n",
      "# Get a NumPy array of the effective RIs and relative errors\n",
      "true_RIs = u238_eff_RIs.getIntegrals()\n",
      "rel_err = u238_eff_RIs.getRelativeError()"
     ],
     "language": "python",
     "metadata": {},
     "outputs": []
    },
    {
     "cell_type": "code",
     "collapsed": false,
     "input": [],
     "language": "python",
     "metadata": {},
     "outputs": []
    }
   ],
   "metadata": {}
  }
 ]
}