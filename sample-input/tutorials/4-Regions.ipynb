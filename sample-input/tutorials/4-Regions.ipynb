{
 "metadata": {
  "name": ""
 },
 "nbformat": 3,
 "nbformat_minor": 0,
 "worksheets": [
  {
   "cells": [
    {
     "cell_type": "heading",
     "level": 1,
     "metadata": {},
     "source": [
      "A Tutorial on Creating Regions in PINSPEC"
     ]
    },
    {
     "cell_type": "markdown",
     "metadata": {},
     "source": [
      "This tutorial will cover the basics of creating Regions in PINSPEC. As with any PINSPEC script, we must first import the **pinspec** modules into our Python environment:"
     ]
    },
    {
     "cell_type": "code",
     "collapsed": false,
     "input": [
      "from pinspec import *\n",
      "from pinspec.log import *"
     ],
     "language": "python",
     "metadata": {},
     "outputs": [],
     "prompt_number": 1
    },
    {
     "cell_type": "markdown",
     "metadata": {},
     "source": [
      "Let's now set the output directory. In addition, in order to see some helpful initialization messages from the PINSPEC backend, we must set the log level to **'INFO'**:"
     ]
    },
    {
     "cell_type": "code",
     "collapsed": false,
     "input": [
      "set_output_directory('3-Materials')\n",
      "py_set_log_level('INFO')"
     ],
     "language": "python",
     "metadata": {},
     "outputs": []
    },
    {
     "cell_type": "markdown",
     "metadata": {},
     "source": [
      "In PINSPEC, a **Region** is **filled** by a Material which is a collection of Isotopes, each with a certain number density. Hence, in order to create a Region, we must first initialize some Isotopes and a Material. Let's initialize some of the Isotopes most common in LWRs:"
     ]
    },
    {
     "cell_type": "code",
     "collapsed": false,
     "input": [
      "h1 = Isotope('H-1')\n",
      "o16 = Isotope('O-16')\n",
      "u235 = Isotope('U-235')\n",
      "u238 = Isotope('U-238')\n",
      "zr90 = Isotope('Zr-90')"
     ],
     "language": "python",
     "metadata": {},
     "outputs": []
    },
    {
     "cell_type": "markdown",
     "metadata": {},
     "source": [
      "Next, we can initialize a Material for an infinite medium and fill it with our Isotopes:"
     ]
    },
    {
     "cell_type": "code",
     "collapsed": false,
     "input": [
      "inf_medium_material = Material('infinite medium material')\n",
      "inf_medium_material.setDensity(5., 'g/cc')\n",
      "inf_medium_material.addIsotope(o16, 1.0)\n",
      "inf_medium_material.addIsotope(h1, 1.0)\n",
      "inf_medium_material.addIsotope(u238, 0.01)\n",
      "inf_medium_material.addIsotope(u235, .0025)\n",
      "inf_medium_material.addIsotope(zr90, .16)"
     ],
     "language": "python",
     "metadata": {},
     "outputs": []
    },
    {
     "cell_type": "markdown",
     "metadata": {},
     "source": [
      "Now that we have a Material with Isotopes, we are ready to create a Region. PINSPEC supports different types of Regions for different types of calculations:<br />\n",
      "\n",
      "1) Infinite medium model (INFINITE_HOMOGENEOUS)<br />\n",
      "2) Homogeneous equivalence model (HOMOGENEOUS_EQUIVALENCE)<br />\n",
      "\n",
      "**NOTE:** Although PINSPEC includes Regions which can be used to construct heterogeneous models, they are untested and untrusted at this stage of development. <br />\n",
      "\n",
      "\n",
      "We will look at how to create each type of Region for infinite medium and homogeneous equivalence models in the next two sections."
     ]
    },
    {
     "cell_type": "heading",
     "level": 3,
     "metadata": {},
     "source": [
      "Infinite Medium Models"
     ]
    },
    {
     "cell_type": "markdown",
     "metadata": {},
     "source": [
      "The first step is to create an **InfiniteMediumRegion** class object. As with Materials, we need to give our Region a name:"
     ]
    },
    {
     "cell_type": "code",
     "collapsed": false,
     "input": [
      "inf_medium_region = InfiniteMediumRegion('infinite medium region')"
     ],
     "language": "python",
     "metadata": {},
     "outputs": []
    },
    {
     "cell_type": "markdown",
     "metadata": {},
     "source": [
      "Now, we need to add our Material to the Region:"
     ]
    },
    {
     "cell_type": "code",
     "collapsed": false,
     "input": [
      "inf_medium_region.setMaterial(inf_medium_material)"
     ],
     "language": "python",
     "metadata": {},
     "outputs": []
    },
    {
     "cell_type": "markdown",
     "metadata": {},
     "source": [
      "That's all there is to creating a Region for infinite medium calculations! We'll discuss how to create Regions for homogeneous equivalence calculations next."
     ]
    },
    {
     "cell_type": "heading",
     "level": 3,
     "metadata": {},
     "source": [
      "Homogeneous Equivalence Models"
     ]
    },
    {
     "cell_type": "markdown",
     "metadata": {},
     "source": [
      "In homogeneous equivalence models, we need two regions for the **fuel** and the **moderator** of a simple pin cell. In this case, we will also need two Materials for the fuel and moderator, respectively. Let's first initialize two Materials for both Regions with some typical atomic ratios:"
     ]
    },
    {
     "cell_type": "code",
     "collapsed": false,
     "input": [
      "# Create a material for the moderator\n",
      "moderator_material = Material('moderator material')\n",
      "moderator_material.setDensity(1.815, 'g/cc')\n",
      "moderator_material.addIsotope(h1, 0.617)\n",
      "moderator_material.addIsotope(o16, 0.309)\n",
      "moderator_material.addIsotope(zr90, 0.074)\n",
      "\n",
      "# Create a material for the fuel                                            \n",
      "fuel_material = Material('fuel material')\n",
      "fuel_material.setDensity(10.2, 'g/cc')\n",
      "fuel_material.addIsotope(u235, 0.010)\n",
      "fuel_material.addIsotope(u238, 0.323)\n",
      "fuel_material.addIsotope(o16, 0.667)"
     ],
     "language": "python",
     "metadata": {},
     "outputs": []
    },
    {
     "cell_type": "markdown",
     "metadata": {},
     "source": [
      "Excellent, we now have Materials for both of our Regions! Let's proceed by creating an **EquivalenceModeratorRegion** to represent the moderator in the pin cell model:"
     ]
    },
    {
     "cell_type": "code",
     "collapsed": false,
     "input": [
      "moderator_region = EquivalenceModeratorRegion('moderator region')"
     ],
     "language": "python",
     "metadata": {},
     "outputs": []
    },
    {
     "cell_type": "markdown",
     "metadata": {},
     "source": [
      "And as for the infinite medium, we must assign our Region a Material:"
     ]
    },
    {
     "cell_type": "code",
     "collapsed": false,
     "input": [
      "moderator_region.setMaterial(moderator_material)"
     ],
     "language": "python",
     "metadata": {},
     "outputs": []
    },
    {
     "cell_type": "markdown",
     "metadata": {},
     "source": [
      "Let's do the same for our fuel by creating an **EquivalenceFuelRegion**:"
     ]
    },
    {
     "cell_type": "code",
     "collapsed": false,
     "input": [
      "fuel_region = EquivalenceFuelRegion('fuel region')\n",
      "fuel_region.setMaterial(fuel_material)"
     ],
     "language": "python",
     "metadata": {},
     "outputs": []
    },
    {
     "cell_type": "markdown",
     "metadata": {},
     "source": [
      "And that's it - we are now ready to simulate a homogeneous equivalence pin cell model with our Isotopes, Materials and Regions, as will be seen in the next few Tutorials."
     ]
    }
   ],
   "metadata": {}
  }
 ]
}