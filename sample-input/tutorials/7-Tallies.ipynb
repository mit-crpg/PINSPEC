{
 "metadata": {
  "name": ""
 },
 "nbformat": 3,
 "nbformat_minor": 0,
 "worksheets": [
  {
   "cells": [
    {
     "cell_type": "heading",
     "level": 1,
     "metadata": {},
     "source": [
      "A Tutorial on Creating and Using Tallies in PINSPEC"
     ]
    },
    {
     "cell_type": "markdown",
     "metadata": {},
     "source": [
      "This tutorial will cover the basics of creating and using Tallies in PINSPEC. As with any PINSPEC script, we must first import the **pinspec** modules into our Python environment:"
     ]
    },
    {
     "cell_type": "code",
     "collapsed": false,
     "input": [
      "from pinspec import *\n",
      "from pinspec.log import *"
     ],
     "language": "python",
     "metadata": {},
     "outputs": []
    },
    {
     "cell_type": "markdown",
     "metadata": {},
     "source": [
      "Let's now set the output directory. In addition, in order to see some helpful initialization messages from the PINSPEC backend, we must set the log level to **'INFO'**:"
     ]
    },
    {
     "cell_type": "code",
     "collapsed": false,
     "input": [
      "set_output_directory('7-Tallies')\n",
      "py_set_log_level('INFO')"
     ],
     "language": "python",
     "metadata": {},
     "outputs": []
    },
    {
     "cell_type": "markdown",
     "metadata": {},
     "source": [
      "In PINSPEC, Tallies are **agnostic** to the type of Geometry for which you are simulating. In other words, it doesn't matter if your are modeling an infinite medium, homogeneous equivalence, or heterogeneous pin cell model - Tally objects behave independent of your model. Hence, we can proceed to demonstrate the use of Tallies in PINSEPC in this tutorial with any one of these models and it will apply in exactly the same way to the other models. We will choose to demonstrate Tallies in the homogeneous equivalence model for generality. Let's begin by creating a homogeneous equivalence model:"
     ]
    },
    {
     "cell_type": "code",
     "collapsed": false,
     "input": [
      "# Initialize Isotopes\n",
      "h1 = Isotope('H-1')\n",
      "o16 = Isotope('O-16')\n",
      "u235 = Isotope('U-235')\n",
      "u238 = Isotope('U-238')\n",
      "zr90 = Isotope('Zr-90')\n",
      "\n",
      "# Create a Material for the moderator\n",
      "moderator_material = Material('moderator material')\n",
      "moderator_material.setDensity(1.815, 'g/cc')\n",
      "moderator_material.addIsotope(h1, 0.617)\n",
      "moderator_material.addIsotope(o16, 0.309)\n",
      "moderator_material.addIsotope(zr90, 0.074)\n",
      "\n",
      "# Created a Material for the fuel                                            \n",
      "fuel_material = Material('fuel material')\n",
      "fuel_material.setDensity(10.2, 'g/cc')\n",
      "fuel_material.addIsotope(u235, 0.010)\n",
      "fuel_material.addIsotope(u238, 0.323)\n",
      "fuel_material.addIsotope(o16, 0.667)\n",
      "\n",
      "# Create a Region for the moderator\n",
      "moderator_region = EquivalenceModeratorRegion('moderator region')\n",
      "moderator_region.setMaterial(moderator_material)\n",
      "\n",
      "# Create a Region for the fuel\n",
      "fuel_region = EquivalenceFuelRegion('fuel region')\n",
      "fuel_region.setMaterial(fuel_material)\n",
      "\n",
      "# Create a Geometry containing both fuel and moderator Regions\n",
      "geometry = Geometry(HOMOGENEOUS_EQUIVALENCE)\n",
      "geometry.addRegion(moderator_region)\n",
      "geometry.addRegion(fuel_region)\n",
      "geometry.setFuelPinRadius(0.4096)\n",
      "geometry.setPinCellPitch(1.26)\n",
      "geometry.setDancoffFactor(0.277)"
     ],
     "language": "python",
     "metadata": {},
     "outputs": []
    },
    {
     "cell_type": "heading",
     "level": 3,
     "metadata": {},
     "source": [
      "Initializing Tallies"
     ]
    },
    {
     "cell_type": "markdown",
     "metadata": {},
     "source": [
      "Now that our Isotopes, Materials and Geometry have been initialized, let's create some **Tallies**. OpenMOC supports Tallies for a number of different quantities which are each designated an enumerated type:<br />\n",
      "\n",
      "1) **FLUX** <br />\n",
      "2) **FISSION_RATE** <br />\n",
      "3) **CAPTURE_RATE** <br />\n",
      "4) **FISSION_RATE** <br />\n",
      "5) **ABSORPTION_RATE** <br />\n",
      "6) **ELASTIC_RATE** <br />\n",
      "7) **TRANSPORT_RATE** <br />\n",
      "8) **DIFFUSION_RATE** <br />\n",
      "9) **COLLISION_RATE** <br />\n",
      "10) **INTERCOLLISION_TIME** <br />\n",
      "\n",
      "We will use the **TallyFactory** class's **createTally(...)** method to instantiate our Tally objects. A single TallyFactory instance is already instantiated for each PINSPEC simulation according to the <a href=\"http://en.wikipedia.org/wiki/Singleton_pattern\" target=\"None\">\"singleton pattern\"</a> for object-oriented programming. We can use the **createTally(...)** method by designating the following parameters:\n",
      "\n",
      "1) Domain - a Geometry, Region, Material or Isotope object to tally within <br />\n",
      "2) Tally type - one of the enumerated values for the quantity to tally <br />\n",
      "3) Tally name - a string for the Tally name (empty string by default) <br />\n",
      "\n",
      "Now that we understand the basics of creating Tallies in OpenMOC, let's begin by creating a few Tallies for the flux - one for the moderator, one for the fuel, and another for the entire pin cell geometry:"
     ]
    },
    {
     "cell_type": "code",
     "collapsed": false,
     "input": [
      "# Tally for the flux in the moderator\n",
      "moderator_flux = TallyFactory.createTally(moderator_region, FLUX, 'moderator flux')\n",
      "\n",
      "# Tally for the flux in the fuel\n",
      "fuel_flux = TallyFactory.createTally(fuel_region, FLUX, 'fuel flux')\n",
      "\n",
      "# Tally for the flux across the entire pin cell\n",
      "total_flux = TallyFactory.createTally(geometry, FLUX, 'total flux')"
     ],
     "language": "python",
     "metadata": {},
     "outputs": []
    },
    {
     "cell_type": "heading",
     "level": 3,
     "metadata": {},
     "source": [
      "Creating Tally Bins"
     ]
    },
    {
     "cell_type": "markdown",
     "metadata": {},
     "source": [
      "We now have some **empty** Tally instances. The next step is to assign some **bin edges** in energy space to each Tally. We can do so using the Tally class' **generateBinEdges(...)** routine with the following parameters:<br />\n",
      "\n",
      "1) Low energy bound (eV)<br />\n",
      "2) Upper energy bound (eV)<br />\n",
      "3) Number of bins<br />\n",
      "4) Bin spacing type - EQUAL or LOGARITHMIC<br />\n",
      "\n",
      "Let's explore the use of **generateBinEdges(...)** to create 1000 logarithmically spaced bins (equally spaced in lethargy) between 0.01 eV and 10 MeV for the total flux:"
     ]
    },
    {
     "cell_type": "code",
     "collapsed": false,
     "input": [
      "total_flux.generateBinEdges(1E-2, 1E7, 1000, LOGARITHMIC)"
     ],
     "language": "python",
     "metadata": {},
     "outputs": []
    },
    {
     "cell_type": "markdown",
     "metadata": {},
     "source": [
      "In some cases, we may be interested in the flux in specific regions of the energy spectrum and do not want equally or logarithmically spaced bin edges. In such cases, we can use NumPy to create arrays for the bin edges in eV and assign them to our Tally. Let's do this for the moderator and fuel fluxes as follows:"
     ]
    },
    {
     "cell_type": "code",
     "collapsed": false,
     "input": [
      "# Create NumPy array of the bin edges (eV)\n",
      "import numpy\n",
      "flux_bin_edges = numpy.array([0., 0.1, 0.5, 1., 6., 10., 25., \\\n",
      "                              50., 1E2, 1E3, 1E4, 1E5, 5E5, 1E7])\n",
      "\n",
      "# Assign the bin edges to our Tallies\n",
      "moderator_flux.setBinEdges(flux_bin_edges)\n",
      "fuel_flux.setBinEdges(flux_bin_edges)"
     ],
     "language": "python",
     "metadata": {},
     "outputs": []
    },
    {
     "cell_type": "markdown",
     "metadata": {},
     "source": [
      "Now that we have instantiated some Tallies and initialized them with tally bins, we must register them to be used in our simulation. PINSPEC includes another singleton class patttern - the **TallyBank** - for precisely this purpose. A single instance of the TallyBank exists for any PINSPEC simulation. By **registering** your Tallies with the TallyBank, you inform PINSPEC to use them for the present simulation. We can do so using the **registerTally(...)** routine as follows:"
     ]
    },
    {
     "cell_type": "heading",
     "level": 3,
     "metadata": {},
     "source": [
      "Registering Tallies for a Simulation"
     ]
    },
    {
     "cell_type": "code",
     "collapsed": false,
     "input": [
      "TallyBank.registerTally(total_flux)\n",
      "TallyBank.registerTally(moderator_flux)\n",
      "TallyBank.registerTally(fuel_flux)"
     ],
     "language": "python",
     "metadata": {},
     "outputs": []
    },
    {
     "cell_type": "markdown",
     "metadata": {},
     "source": [
      "As we can see, the TallyBank reports that it is has registered our Tallies for the simulation using the Tally names that we defined when we instantiated our Tallies.<br />\n",
      "\n",
      "Let's test out our Tallies by running a simulation with them! As in the previous tutorial, all we need to do is call the **runMonteCarloSimulation(...)** routine for our Geometry object:"
     ]
    },
    {
     "cell_type": "code",
     "collapsed": false,
     "input": [
      "geometry.runMonteCarloSimulation()"
     ],
     "language": "python",
     "metadata": {},
     "outputs": []
    },
    {
     "cell_type": "markdown",
     "metadata": {},
     "source": [
      "Excellent, we've now run a simulation and tallied some useful information about the neutron flux (with batchwise statistics) in our pin cell model. Please note that PINSPEC normalizes all Tallies at the end of the simulation to the number of neutrons per batch."
     ]
    },
    {
     "cell_type": "heading",
     "level": 3,
     "metadata": {},
     "source": [
      "Deregistering Tallies"
     ]
    },
    {
     "cell_type": "markdown",
     "metadata": {},
     "source": [
      "In some cases, users may wish to iterate over many simulations within the same Python script to Tally different values. In this case, it is important to understand that the TallyBank will contain each of the Tallies that you register it with it for each simulation unless you **deregister** the Tallies. Hence, if your script does the following:<br />\n",
      "\n",
      "1) Initialize Tally **A**<br />\n",
      "2) Register Tally **A**<br />\n",
      "3) Run simulation<br />\n",
      "4) Initialize Tally **B**<br />\n",
      "5) Register Tally **B**<br />\n",
      "6) Run simulation<br />\n",
      "\n",
      "In this case, both Tallies **A** and **B** will be used in the second simulation run. If instead, you wish to only use Tally **B** in the second simulation, you must first **deregister** Tally **A**. <br />\n",
      "\n",
      "**NOTE**: At the beginning of each simulation (*i.e.*, call to the Geometry's runMoneCarloSimulation() routine), **all** Tallies in the TallyBank will be **zeroed** for initialization, erasing any data you may have in your Tally. Hence, if you wish to reuse a Tally for multiple simulations, you should print its data to the console or to a unique file in between simulations.<br />\n",
      "\n",
      "We can deregister Tallies using the TallyBank's **deregisterTally(...)** method for the Tally we wish to deregister from the TallyBank. An example of this is given for the total flux Tally below:"
     ]
    },
    {
     "cell_type": "code",
     "collapsed": false,
     "input": [
      "TallyBank.deregisterTally(total_flux)"
     ],
     "language": "python",
     "metadata": {},
     "outputs": []
    },
    {
     "cell_type": "markdown",
     "metadata": {},
     "source": [
      "The **deregisterTally(...)** routine will not delete your Tally and you will still have access to it for data processing. You may even register it with the TallyBank again if you wish to.<br />\n",
      "\n",
      "In the event that you wish to deregister **all** Tallies from the TallyBank in between simulations and you do not want to deregister each one individually, you may do so with the TallyBank's **clearTallies()** routine:"
     ]
    },
    {
     "cell_type": "code",
     "collapsed": false,
     "input": [
      "TallyBank.clearTallies()"
     ],
     "language": "python",
     "metadata": {},
     "outputs": []
    },
    {
     "cell_type": "heading",
     "level": 3,
     "metadata": {},
     "source": [
      "Reporting Tally Values"
     ]
    },
    {
     "cell_type": "markdown",
     "metadata": {},
     "source": [
      "Let's take a look at the Tally data using the Tally class' **printTallies(...)** method. For example, we can print the tallies for our moderator flux as follows:"
     ]
    },
    {
     "cell_type": "code",
     "collapsed": false,
     "input": [
      "moderator_flux.printTallies()"
     ],
     "language": "python",
     "metadata": {},
     "outputs": []
    },
    {
     "cell_type": "markdown",
     "metadata": {},
     "source": [
      "We can request that **printTallies(...)** print the uncertainties - variance, standard deviation, and relative error - with the optional **uncertainties** parameter. We illustrate this for the fuel flux Tally below:"
     ]
    },
    {
     "cell_type": "code",
     "collapsed": false,
     "input": [
      "fuel_flux.printTallies(uncertainties=True)"
     ],
     "language": "python",
     "metadata": {},
     "outputs": []
    },
    {
     "cell_type": "heading",
     "level": 3,
     "metadata": {},
     "source": [
      "Plotting Flux Tallies"
     ]
    },
    {
     "cell_type": "markdown",
     "metadata": {},
     "source": [
      "The PINSPEC **pinspec.plotter** module includes a routine to simply and easily plot the **FLUX** type tallies. First, we need to import the plotter module into our Python environment:"
     ]
    },
    {
     "cell_type": "code",
     "collapsed": false,
     "input": [
      "import pinspec.plotter as plotter"
     ],
     "language": "python",
     "metadata": {},
     "outputs": []
    },
    {
     "cell_type": "markdown",
     "metadata": {},
     "source": [
      "Next, we can use the **plotFlux(...)** to easily plot our total flux across the entire pin cell model as follows:"
     ]
    },
    {
     "cell_type": "code",
     "collapsed": false,
     "input": [
      "plotter.plotFlux(total_flux, filename='fine-group-flux')"
     ],
     "language": "python",
     "metadata": {},
     "outputs": []
    },
    {
     "cell_type": "markdown",
     "metadata": {},
     "source": [
      "We can even plot multiple flux talies on the same plot by passing in them into the routine using a Python list:"
     ]
    },
    {
     "cell_type": "code",
     "collapsed": false,
     "input": [
      "plotter.plotFlux([moderator_flux, fuel_flux], uselegend=True, filename='coarse-group-flux')"
     ],
     "language": "python",
     "metadata": {},
     "outputs": []
    },
    {
     "cell_type": "markdown",
     "metadata": {},
     "source": [
      "We should note that as usual, PINSPEC stores each plot to an image file. We can inspect our present working directory to find them:"
     ]
    },
    {
     "cell_type": "code",
     "collapsed": false,
     "input": [
      "cd 7-Tallies/plots"
     ],
     "language": "python",
     "metadata": {},
     "outputs": []
    },
    {
     "cell_type": "code",
     "collapsed": false,
     "input": [
      "ls"
     ],
     "language": "python",
     "metadata": {},
     "outputs": []
    },
    {
     "cell_type": "markdown",
     "metadata": {},
     "source": [
      "Finally, we can use Matplotlib to view the image file if we wish:"
     ]
    },
    {
     "cell_type": "code",
     "collapsed": false,
     "input": [
      "imshow(imread('fine-group-flux.png'))"
     ],
     "language": "python",
     "metadata": {},
     "outputs": []
    },
    {
     "cell_type": "heading",
     "level": 3,
     "metadata": {},
     "source": [
      "Exporting Tallies to a File"
     ]
    },
    {
     "cell_type": "markdown",
     "metadata": {},
     "source": [
      "We can also instruct a Tally to store its data to an ASCII text output file which will persist after our simulation script completes using the Tally class' **outputBatchStatistics(...)** routine. This routine can be helpful for users who may want to revisit output data after a simulation completes and analyze it using some data processing or plotting tool such (*i.e.*, Microsoft Excel, Matlab, etc., though Python is the best choice!).<br /> \n",
      "\n",
      "The **outputBatchStatistics(...)** routine takes as an argument the filename for the output file:"
     ]
    },
    {
     "cell_type": "code",
     "collapsed": false,
     "input": [
      "fuel_flux.outputBatchStatistics('fuel-flux-tallies.txt')"
     ],
     "language": "python",
     "metadata": {},
     "outputs": []
    },
    {
     "cell_type": "markdown",
     "metadata": {},
     "source": [
      "We can use the **ls** bash command to inspect that the file was indeed created:"
     ]
    },
    {
     "cell_type": "code",
     "collapsed": false,
     "input": [
      "ls"
     ],
     "language": "python",
     "metadata": {},
     "outputs": []
    },
    {
     "cell_type": "markdown",
     "metadata": {},
     "source": [
      "And we can load the file back into our IPython Notebook command using the **%load** \"magic\" IPython command:"
     ]
    },
    {
     "cell_type": "code",
     "collapsed": false,
     "input": [
      "%load 'fuel-flux-tallies.txt'"
     ],
     "language": "python",
     "metadata": {},
     "outputs": []
    },
    {
     "cell_type": "heading",
     "level": 3,
     "metadata": {},
     "source": [
      "Extracting Tallies into Python"
     ]
    },
    {
     "cell_type": "markdown",
     "metadata": {},
     "source": [
      "PINSPEC provides some routines to assist users in retrieving Tally values (*i.e.*, bin averages, variances, etc.) from the underlying C++ Tally class into Python. In particular, the Tally class contains a number of methods which each return a NumPy array of data. In order to work properly, each of these methods require the user to input the size of the array we wish to extract as the parameter into the routine. (**Note**: this may seem peculiar since PINSPEC and the Tally class clearly know the size of the arrays, but this is a necessary requirement to do some magic with the NumPy C API to convert a C++ array into a NumPy array). <br />\n",
      "\n",
      "To begin, let's explore how one might extract the center points for each Tally bin using the **retrieveTallyCenters(...)** method:"
     ]
    },
    {
     "cell_type": "code",
     "collapsed": false,
     "input": [
      "# Get the number of bins\n",
      "num_bins = moderator_flux.getNumBins()\n",
      "\n",
      "# Extract a NumPy array for the tally bin centers (eV)\n",
      "bin_centers = moderator_flux.retrieveTallyCenters(num_bins)\n",
      "\n",
      "# Print the bin centers\n",
      "print bin_centers"
     ],
     "language": "python",
     "metadata": {},
     "outputs": []
    },
    {
     "cell_type": "markdown",
     "metadata": {},
     "source": [
      "We can also retrieve the bin edges - which, in this case, we manually assigned previously in the tutorial - using the **retrieveTallyEdges(...)** routine, using the number of edges instead of bins in this case:"
     ]
    },
    {
     "cell_type": "code",
     "collapsed": false,
     "input": [
      "# Compute the number of bin edges from the number of bins\n",
      "num_edges = num_bins + 1\n",
      "\n",
      "# Extract a NumPy array for the tally bin centers (eV)\n",
      "bin_edges = moderator_flux.retrieveTallyEdges(num_edges)\n",
      "\n",
      "# Print the bin centers\n",
      "print bin_edges"
     ],
     "language": "python",
     "metadata": {},
     "outputs": []
    },
    {
     "cell_type": "markdown",
     "metadata": {},
     "source": [
      "Perhaps we'd like to retrieve the average tally values in each bin. We can use the **retrieveTallyMu(...)** routine for this purpose:"
     ]
    },
    {
     "cell_type": "code",
     "collapsed": false,
     "input": [
      "tally_mu = moderator_flux.retrieveTallyMu(num_bins)"
     ],
     "language": "python",
     "metadata": {},
     "outputs": []
    },
    {
     "cell_type": "markdown",
     "metadata": {},
     "source": [
      "Likewise, we can retrieve each of the uncertainty metrics - variance, standard deviation, and relative error - which PINSPEC computes for us. To do so, we use the **retrieveTallyStdDev(...)**, **retrieveTallyVariance(...)**, and **retrieveTallyRelErr(...)** Tally class methods, respectively:"
     ]
    },
    {
     "cell_type": "code",
     "collapsed": false,
     "input": [
      "tally_variance = moderator_flux.retrieveTallyVariance(num_bins)\n",
      "tally_std_dev = moderator_flux.retrieveTallyStdDev(num_bins)\n",
      "tally_rel_err = moderator_flux.retrieveTallyRelErr(num_bins)"
     ],
     "language": "python",
     "metadata": {},
     "outputs": []
    },
    {
     "cell_type": "heading",
     "level": 3,
     "metadata": {},
     "source": [
      "Tally Arithmetic"
     ]
    },
    {
     "cell_type": "markdown",
     "metadata": {},
     "source": [
      "PINSPEC also supports **Tally Arithmetic** which allows you to combine two or more tallies using fundamental arithmetic operations (*i.e.*, addition, division, etc.). For example, if we wished to find the flux disadvantage factors - the ratio of the flux in the moderator to that in the fuel - we could simply take the ratio of our two Tallies for the flux and moderator. This will create a **new** Tally object with the ratios and uncertainties in each bin:"
     ]
    },
    {
     "cell_type": "code",
     "collapsed": false,
     "input": [
      "# Create a new Tally from the ratio of two Tallies\n",
      "disadvantage_factor = moderator_flux / fuel_flux\n",
      "\n",
      "# Give the new Tally a name\n",
      "disadvantage_factor.setTallyName('Disadvantage Factor')"
     ],
     "language": "python",
     "metadata": {},
     "outputs": []
    },
    {
     "cell_type": "markdown",
     "metadata": {},
     "source": [
      "Now, we can report the disadvantage factor to the screen using the **printTallies(...)** routine as before:"
     ]
    },
    {
     "cell_type": "code",
     "collapsed": false,
     "input": [
      "disadvantage_factor.printTallies(uncertainties=True)"
     ],
     "language": "python",
     "metadata": {},
     "outputs": []
    },
    {
     "cell_type": "markdown",
     "metadata": {},
     "source": [
      "Although this illustrated the division operator, we can likewise do addition, subtraction, and multiplication between Tallies. Furthermore, the Tally class contains routines to apply arithmetic operators between a Tally and a scalar value, if desired. For example, if for some reason we wished to add 15 to our disadvantage factor Tally, we would do so as follows:"
     ]
    },
    {
     "cell_type": "code",
     "collapsed": false,
     "input": [
      "# Increment each tally bin by 15\n",
      "disadvantage_factor += 15\n",
      "\n",
      "# Report the new values\n",
      "disadvantage_factor.printTallies()"
     ],
     "language": "python",
     "metadata": {},
     "outputs": []
    },
    {
     "cell_type": "heading",
     "level": 3,
     "metadata": {},
     "source": [
      "Tally Precision Triggers"
     ]
    },
    {
     "cell_type": "markdown",
     "metadata": {},
     "source": [
      "We will end this tutorial with a final note on **Precision Triggers**. A precision trigger is a **threshold** on the uncertainty you wish to impose on one or more Tallies in a simulation. For example, perhaps you wish to know the fission rate to within a certain degree of precision, but you don't now *a priori* how many neutrons and neutrons per batch it will require to attain that goal. The solution is to call the Tally class' **setPrecisionTrigger(...)** method with a particular value and type of precision trigger:<br />\n",
      "\n",
      "1) **VARIANCE**<br />\n",
      "2) **STANDARD_DEVIATION**<br />\n",
      "3) **RELATIVE_ERROR**<br />\n",
      "\n",
      "Let's try this in the code snippet below with a fission rate tally in four energy groups to within 5e-3 on the relative error: "
     ]
    },
    {
     "cell_type": "code",
     "collapsed": false,
     "input": [
      "# Clear the TallyBank's tallies\n",
      "TallyBank.clearTallies()\n",
      "\n",
      "# create a tally for the fission rate in the fuel material\n",
      "fission_rate = TallyFactory.createTally(fuel_material, FISSION_RATE)\n",
      "\n",
      "# Create bin edges - 0.000001 eV, 0.1 eV, 1 eV, 4 eV, 10 MeV\n",
      "bin_edges = numpy.array([1e-6, 0.1, 1., 4., 1e7])\n",
      "fission_rate.setBinEdges(bin_edges)\n",
      "\n",
      "# Set a precision trigger to 1E-4 on the variance\n",
      "fission_rate.setPrecisionTrigger(RELATIVE_ERROR, 5E-3)\n",
      "\n",
      "# Register the Tally for a simulation\n",
      "TallyBank.registerTally(fission_rate)"
     ],
     "language": "python",
     "metadata": {},
     "outputs": []
    },
    {
     "cell_type": "markdown",
     "metadata": {},
     "source": [
      "We can now run a simulation as before, but in this case, it will continue to run as many batches as required to reduce the variance below the precision trigger threshold:"
     ]
    },
    {
     "cell_type": "code",
     "collapsed": false,
     "input": [
      "geometry.runMonteCarloSimulation()"
     ],
     "language": "python",
     "metadata": {},
     "outputs": []
    },
    {
     "cell_type": "markdown",
     "metadata": {},
     "source": [
      "We can inspect our fission rate Tally to see that indeed the variance in each bin is below the threshold, as requested:"
     ]
    },
    {
     "cell_type": "code",
     "collapsed": false,
     "input": [
      "fission_rate.printTallies(uncertainties=True)"
     ],
     "language": "python",
     "metadata": {},
     "outputs": []
    }
   ],
   "metadata": {}
  }
 ]
}